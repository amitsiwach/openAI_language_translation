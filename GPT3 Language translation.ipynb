{
 "cells": [
  {
   "cell_type": "code",
   "execution_count": 11,
   "id": "0e566f6f",
   "metadata": {},
   "outputs": [],
   "source": [
    "import os\n",
    "import openai"
   ]
  },
  {
   "cell_type": "code",
   "execution_count": 12,
   "id": "e3f4c36d",
   "metadata": {},
   "outputs": [],
   "source": [
    "openai.api_key = personal_key"
   ]
  },
  {
   "cell_type": "code",
   "execution_count": 13,
   "id": "8ba7b287",
   "metadata": {},
   "outputs": [],
   "source": [
    "def getLanguageTranslation(prompt, language):\n",
    "    response = openai.Completion.create(\n",
    "        model=\"text-davinci-002\",\n",
    "        prompt=\"Translate this into {}\\n{}\".format(language,prompt),\n",
    "        temperature=0.3,\n",
    "        max_tokens=100,\n",
    "        top_p=1,\n",
    "        frequency_penalty=0,\n",
    "        presence_penalty=0\n",
    "    )\n",
    "    \n",
    "    return response"
   ]
  },
  {
   "cell_type": "code",
   "execution_count": 14,
   "id": "69ebebb2",
   "metadata": {},
   "outputs": [
    {
     "data": {
      "text/plain": [
       "'\\n\\nमेरा नाम अमित कुमार है और मैं बंगलौर में रहता हूँ।'"
      ]
     },
     "execution_count": 14,
     "metadata": {},
     "output_type": "execute_result"
    }
   ],
   "source": [
    "prompt = \"My name is Amit Kumar and I live in Bangalore.\"\n",
    "language = \"Hindi\"\n",
    "translated_text = getLanguageTranslation(prompt, language)\n",
    "translated_text['choices'][0][\"text\"]"
   ]
  },
  {
   "cell_type": "code",
   "execution_count": 15,
   "id": "e6d0fc8b",
   "metadata": {},
   "outputs": [
    {
     "data": {
      "text/plain": [
       "'\\n\\nMy name is Amit Kumar and I live in Bangalore.'"
      ]
     },
     "execution_count": 15,
     "metadata": {},
     "output_type": "execute_result"
    }
   ],
   "source": [
    "prompt = \"私の名前はアミット・クマールで、バンガロールに住んでいます。\"\n",
    "language = \"English\"\n",
    "translated_text = getLanguageTranslation(prompt, language)\n",
    "translated_text['choices'][0][\"text\"]"
   ]
  },
  {
   "cell_type": "code",
   "execution_count": 16,
   "id": "851ac1ef",
   "metadata": {},
   "outputs": [
    {
     "data": {
      "text/plain": [
       "'\\n\\nمیرا نام امیت کمار ہے اور میں بنگل۔'"
      ]
     },
     "execution_count": 16,
     "metadata": {},
     "output_type": "execute_result"
    }
   ],
   "source": [
    "prompt = \"My name is Amit Kumar and I live in Bangalore.\"\n",
    "language = \"Urdu\"\n",
    "translated_text = getLanguageTranslation(prompt, language)\n",
    "translated_text['choices'][0][\"text\"]"
   ]
  },
  {
   "cell_type": "code",
   "execution_count": 17,
   "id": "0af7577d",
   "metadata": {},
   "outputs": [
    {
     "data": {
      "text/plain": [
       "'\\n\\nAham Amit Kumar iti asmi, nagari Bangalore iti gacchami.'"
      ]
     },
     "execution_count": 17,
     "metadata": {},
     "output_type": "execute_result"
    }
   ],
   "source": [
    "prompt = \"My name is Amit Kumar and I live in Bangalore\"\n",
    "language = \"Sanskrit\"\n",
    "translated_text = getLanguageTranslation(prompt, language)\n",
    "translated_text['choices'][0][\"text\"]"
   ]
  }
 ],
 "metadata": {
  "hide_input": false,
  "kernelspec": {
   "display_name": "Python 3 (ipykernel)",
   "language": "python",
   "name": "python3"
  },
  "language_info": {
   "codemirror_mode": {
    "name": "ipython",
    "version": 3
   },
   "file_extension": ".py",
   "mimetype": "text/x-python",
   "name": "python",
   "nbconvert_exporter": "python",
   "pygments_lexer": "ipython3",
   "version": "3.10.4"
  },
  "toc": {
   "base_numbering": 1,
   "nav_menu": {},
   "number_sections": true,
   "sideBar": true,
   "skip_h1_title": false,
   "title_cell": "Table of Contents",
   "title_sidebar": "Contents",
   "toc_cell": false,
   "toc_position": {},
   "toc_section_display": true,
   "toc_window_display": false
  }
 },
 "nbformat": 4,
 "nbformat_minor": 5
}
